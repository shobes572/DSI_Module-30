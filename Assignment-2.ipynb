{
 "cells": [
  {
   "cell_type": "markdown",
   "metadata": {},
   "source": [
    "### Lib imports"
   ]
  },
  {
   "cell_type": "code",
   "execution_count": 24,
   "metadata": {},
   "outputs": [],
   "source": [
    "import numpy as np\n",
    "import pandas as pd\n",
    "import scipy\n",
    "\n",
    "from datetime import datetime as dt\n",
    "from datetime import timedelta as td\n",
    "\n",
    "import matplotlib.pyplot as plt\n",
    "import seaborn as sns\n",
    "import plotly.express as px\n"
   ]
  },
  {
   "cell_type": "markdown",
   "metadata": {},
   "source": [
    "### create the data provided in the module notebook and get initial plots"
   ]
  },
  {
   "cell_type": "code",
   "execution_count": 11,
   "metadata": {},
   "outputs": [
    {
     "data": {
      "image/png": "[encoded data removed]",
      "text/plain": [
       "<Figure size 432x288 with 1 Axes>"
      ]
     },
     "metadata": {
      "needs_background": "light"
     },
     "output_type": "display_data"
    }
   ],
   "source": [
    "learning_progress = pd.DataFrame()\n",
    "learning_progress['date'] = pd.date_range(start='2017-01-01', periods=100)\n",
    "learning_progress['knowledge'] = np.arange(0, 100)\n",
    "learning_progress['confidence'] = 10 * np.cos(np.arange(0, 100) * np.pi / 7) + np.arange(0, 100)\n",
    "\n",
    "plt.scatter(learning_progress.knowledge, learning_progress.confidence)\n",
    "plt.title('Scatter Plot')\n",
    "plt.show()\n",
    "plt.plot(learning_progress['date'], learning_progress['knowledge'], '--')\n",
    "plt.plot(learning_progress['date'], learning_progress['confidence'], 'o-')\n",
    "plt.xticks(rotation=60)\n",
    "plt.title('Time Series Linear Plots')\n",
    "plt.show()"
   ]
  },
  {
   "cell_type": "markdown",
   "metadata": {},
   "source": [
    "### DRILL: What's the seasons?\n",
    "\n",
    "Look at the data we created in the beginning. Analyze it to figure out how big a cycle is. Use your programming skills to derive the cycle time rather than looking at the code used to create the series.\n"
   ]
  },
  {
   "cell_type": "code",
   "execution_count": 37,
   "metadata": {},
   "outputs": [
    {
     "data": {
      "text/plain": [
       "Timestamp('2017-01-07 00:00:00')"
      ]
     },
     "metadata": {},
     "output_type": "display_data"
    },
    {
     "data": {
      "text/plain": [
       "Timestamp('2017-01-21 00:00:00')"
      ]
     },
     "metadata": {},
     "output_type": "display_data"
    },
    {
     "data": {
      "text/plain": [
       "Timedelta('14 days 00:00:00')"
      ]
     },
     "metadata": {},
     "output_type": "display_data"
    }
   ],
   "source": [
    "checkpoint1 = dt(year=2017, month=1, day=1)\n",
    "checkpoint2 = dt(year=2017, month=1, day=15)\n",
    "checkpoint3 = dt(year=2017, month=2, day=1)\n",
    "\n",
    "set1 = learning_progress[learning_progress['date'].between(checkpoint1, checkpoint2)]\n",
    "date1 = set1[set1['confidence'] == set1['confidence'].min()]['date'].reset_index(drop=True)[0]\n",
    "set2 = learning_progress[learning_progress['date'].between(checkpoint2, checkpoint3)]\n",
    "date2 = set2[set2['confidence'] == set2['confidence'].min()]['date'].reset_index(drop=True)[0]\n",
    "\n",
    "display(\n",
    "    date1,\n",
    "    date2,\n",
    "    date2-date1\n",
    ")"
   ]
  },
  {
   "cell_type": "markdown",
   "metadata": {},
   "source": [
    "<span style=\"color:blue\">In data that's obviously cyclical, the cycle time can be derived as the difference between peaks so analyzing this will require two date wrappers.  Looking at the first set of datapoints, I extract the minimum value and the date corresponding to said value.  Repeating for the second interval, I then take the difference between the two minima to derive the timedelta of <b>14 days</b> as cycle duration </span>"
   ]
  }
 ],
 "metadata": {
  "kernelspec": {
   "display_name": "Python 3",
   "language": "python",
   "name": "python3"
  },
  "language_info": {
   "codemirror_mode": {
    "name": "ipython",
    "version": 3
   },
   "file_extension": ".py",
   "mimetype": "text/x-python",
   "name": "python",
   "nbconvert_exporter": "python",
   "pygments_lexer": "ipython3",
   "version": "3.7.4"
  }
 },
 "nbformat": 4,
 "nbformat_minor": 2
}
